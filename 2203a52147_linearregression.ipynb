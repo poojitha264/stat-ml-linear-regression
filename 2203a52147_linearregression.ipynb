{
  "nbformat": 4,
  "nbformat_minor": 0,
  "metadata": {
    "colab": {
      "provenance": []
    },
    "kernelspec": {
      "name": "python3",
      "display_name": "Python 3"
    },
    "language_info": {
      "name": "python"
    }
  },
  "cells": [
    {
      "cell_type": "code",
      "execution_count": null,
      "metadata": {
        "id": "qWnvZ1JhCBaS"
      },
      "outputs": [],
      "source": [
        "import pandas as pd\n",
        "a=pd.read_csv('/content/salary.csv')\n",
        "print(a)\n",
        "print(a.head())\n",
        "print(a.columns)\n",
        "target_variable = 'TargetColumnName'\n",
        "features = a.columns[a.columns != target_variable]\n",
        "print('Target Variable:', target_variable)\n",
        "print('Features:', features)"
      ]
    },
    {
      "cell_type": "code",
      "source": [
        "import matplotlib.pyplot as plt\n",
        "import numpy as np\n",
        "a=pd.read_csv('/content/salary.csv')\n",
        "print(a)\n",
        "b = a['YearsExperience']\n",
        "c = a['Salary']\n",
        "plt.plot(b, c)\n",
        "plt.xlabel('b')\n",
        "plt.ylabel('c')\n",
        "plt.title('Scatter Plot: yearsExperience vs Salary')\n",
        "plt.show()"
      ],
      "metadata": {
        "id": "AYKfBGPRCEyp"
      },
      "execution_count": null,
      "outputs": []
    },
    {
      "cell_type": "code",
      "source": [
        "import numpy as np\n",
        "import matplotlib.pyplot as plt\n",
        "x=np.array([2,4,6,8,10])\n",
        "y=np.array([40000,60000,80000,100000,120000])\n",
        "m,b=np.polyfit(x,y,1)\n",
        "y_pred=m*x+b\n",
        "plt.scatter(x,y,label='Data Points')\n",
        "plt.plot(x,y_pred,color='red',label='Best Fit Line')\n",
        "plt.xlabel('Feature')\n",
        "plt.ylabel('Target')\n",
        "plt.legend()\n",
        "plt.show()"
      ],
      "metadata": {
        "id": "lXNnumkQCLKv"
      },
      "execution_count": null,
      "outputs": []
    },
    {
      "cell_type": "code",
      "source": [
        "import numpy as np\n",
        "import pandas as pd\n",
        "from sklearn.preprocessing import MinMaxScaler\n",
        "from sklearn.model_selection import train_test_split\n",
        "import matplotlib.pyplot as plt\n",
        "a = pd.read_csv('/content/Japan_life_expectancy.csv')\n",
        "features = a.drop(\"Life_expectancy\", axis=1)\n",
        "#print(features)\n",
        "print('factors influence life expectancy in Japan are',features.columns)"
      ],
      "metadata": {
        "id": "w48zjTtWCPNH"
      },
      "execution_count": null,
      "outputs": []
    }
  ]
}